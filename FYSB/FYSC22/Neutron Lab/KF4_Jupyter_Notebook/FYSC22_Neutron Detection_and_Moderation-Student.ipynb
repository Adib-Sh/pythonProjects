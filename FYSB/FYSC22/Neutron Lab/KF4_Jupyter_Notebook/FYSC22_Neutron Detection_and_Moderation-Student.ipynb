{
 "cells": [
  {
   "cell_type": "markdown",
   "metadata": {},
   "source": [
    "# Neutron Detection and Moderation\n",
    "\n",
    "\n",
    "### Introduction\n",
    "* This 'Jupyter Notebook' is your manual, data analysis and log book all at the same time. It consists of individual cells of text or Python code and you can edit or add cells to your heart's content.\n",
    "* When using the notebook, there are two modes: *command* and *edit* mode. In command mode, you can add, move, run or delete cells. In edit mode, you modify its content. Use the *Esc* key or click outside the cell to leave edit mode. With *shift* + *return* you can run it directly from edit mode.\n",
    "* When you 'run' a cell it will either be formated or executed depending on whether it is a text cell or a code cell, respectivly. The output will be shown inside the notebook.\n",
    "* It is best to run the notebook piece-by-piece as we are progressing through the lab. If something doesn't work as expected, try 'Kernel->Restart' to get a fresh working environment.\n",
    "* Code cells support typical editing features of an IDE, such as tab-complete. You find more info in the 'Help' menu including all keyboard shortcuts!\n",
    "* **Please note**: The code is not supposed to work out-of-the-box but needs some tweaks from your side to complete all the way through! So if you encounter an error, don't despair, try to fix it and ask for help should you get stuck!\n",
    "* **Tip**: If you enable line numbers for code cells in the menu (View->Toggle Line Numbers) it will be easier to discuss changes with your colleagues!\n"
   ]
  },
  {
   "cell_type": "markdown",
   "metadata": {},
   "source": [
    "### Importing python packages <a name=\"import\"></a>"
   ]
  },
  {
   "cell_type": "code",
   "execution_count": null,
   "metadata": {},
   "outputs": [],
   "source": [
    "#This code cell holds useful code needed for the analysis. Execute it like normal.\n",
    "# Packages to help importing files \n",
    "import sys, os\n",
    "sys.path.append('./lib')\n",
    "\n",
    "# Package that supports working with large arrays\n",
    "import numpy as np  \n",
    "\n",
    "# Package for plotting \n",
    "import matplotlib   # choose a backend for web applications; remove for stand-alone applications:\n",
    "matplotlib.use('Agg') # enable interactive notebook plots (alternative: use 'inline' instead of 'notebook'/'widget' for static images)\n",
    "%matplotlib notebook\n",
    "\n",
    "# The following line is the ONLY one needed in stand-alone applications!\n",
    "import matplotlib.pyplot as plt\n",
    "\n",
    "# Function that fits a curve to data \n",
    "from scipy.optimize import curve_fit\n",
    "\n",
    "# Custom pakages prepared for you to analyze experimental data from labs.\n",
    "# The code is located in the 'lib' subfolder which we have to specify:\n",
    "sys.path.append('./lib')\n",
    "import MCA, fittingFunctions"
   ]
  },
  {
   "cell_type": "markdown",
   "metadata": {},
   "source": [
    "--------------------------------------------------------------------------------------------------------------"
   ]
  },
  {
   "cell_type": "markdown",
   "metadata": {},
   "source": [
    "# Pre-Settings"
   ]
  },
  {
   "cell_type": "code",
   "execution_count": null,
   "metadata": {},
   "outputs": [],
   "source": [
    "### NO NEED TO EDIT ###\n",
    "\n",
    "### Variables that are common for all analysis ###\n",
    "scale = 200 # for visualization, scale is equivalent to 100% "
   ]
  },
  {
   "cell_type": "markdown",
   "metadata": {},
   "source": [
    "#  Measurement 1- Base measurement<a name=\"load\"></a>\n",
    "## Task 1 Read in base measurements and calibrate"
   ]
  },
  {
   "cell_type": "markdown",
   "metadata": {},
   "source": [
    "Read in experimental data:"
   ]
  },
  {
   "cell_type": "code",
   "execution_count": null,
   "metadata": {
    "attributes": {
     "classes": [],
     "id": "",
     "n": "2"
    },
    "scrolled": true
   },
   "outputs": [],
   "source": [
    "#Load your data files here:\n",
    "data_detector1 = MCA.load_spectrum(\" \") #-> TODO <- Insert the name of your data file detector1\n",
    "data_detector2 = MCA.load_spectrum(\" \") #-> TODO <- Insert the name of your data file detector2"
   ]
  },
  {
   "cell_type": "code",
   "execution_count": null,
   "metadata": {
    "scrolled": false
   },
   "outputs": [],
   "source": [
    "#Execute this cell to plot your data\n",
    "\n",
    "#### NO NEED TO EDIT ####\n",
    "\n",
    "plt.figure()\n",
    "plt.step(data_detector1.bin_centers, data_detector1.counts, where='mid')\n",
    "\n",
    "plt.title(\"Detector1\") # set title of the plot\n",
    "plt.xlabel(\"Channels\")     # set label for x-axis \n",
    "plt.ylabel(\"Counts\")       # set label for y-axis \n",
    "plt.yscale('log')\n",
    "\n",
    "plt.figure()\n",
    "plt.step(data_detector2.bin_centers, data_detector2.counts, where='mid')\n",
    "\n",
    "plt.title(\"Detector2\") # set title of the plot\n",
    "plt.xlabel(\"Channels\")     # set label for x-axis \n",
    "plt.ylabel(\"Counts\")       # set label for y-axis \n",
    "plt.yscale('log')\n",
    "plt.show()\n",
    "\n",
    "#plt.savefig(\"test_spectrum.png\") # This is how you save the figure. Change the extension for different file types such as pdf or png."
   ]
  },
  {
   "cell_type": "markdown",
   "metadata": {},
   "source": [
    "### Task 1.2 Energy calibration of the detectors:\n",
    "\n",
    "Recall that the energy calibration is the linear dependence between the ADC channel number and energies of full-energy peaks of a spectrum. It should be performed with a linear regression. Therefore, the idea behind it can be expressed as: \n",
    "\n",
    "\\begin{equation*}\n",
    "Energy = k \\cdot channel + m  \n",
    "\\end{equation*}\n",
    "\n",
    "where $Energy$ is characteristic electron energy for a source and can be found from the data sheet, $channel$ is a channel number that corresponds to a peak centroid of uncalibrated spectrum, $k$ and $m$ are calibration constants. "
   ]
  },
  {
   "cell_type": "code",
   "execution_count": null,
   "metadata": {},
   "outputs": [],
   "source": [
    "### Insert channels for the Detector1 \n",
    "detector1_peak =          ### ToDo - insert value of the peak\n",
    "detector1_ch_edge1 =      ### ToDo - insert value of the first edge \n",
    "detector1_ch_edge2 =      ### ToDo - insert value of the second edge \n",
    "\n",
    "### Insert channels for the Detector2\n",
    "detector2_peak =          ### ToDo - insert value of the peak\n",
    "detector2_ch_edge1 =      ### ToDo - insert value of the first edge \n",
    "detector2_ch_edge2 =      ### ToDo - insert value of the second edge \n",
    "\n",
    "\n",
    "### NO NEED TO EDIT ###\n",
    "channels_1 = np.array([detector1_peak, detector1_ch_edge1, detector1_ch_edge2]) \n",
    "channels_2 = np.array([detector2_peak, detector2_ch_edge1, detector2_ch_edge2])\n",
    "\n",
    "channels_empty = np.row_stack(([channels_1, channels_2]))\n",
    "channels_empty"
   ]
  },
  {
   "cell_type": "code",
   "execution_count": null,
   "metadata": {},
   "outputs": [],
   "source": [
    "energy = np.array([ , , ]) ### # -> TODO <- Insert the energies of the peak and two edges "
   ]
  },
  {
   "cell_type": "markdown",
   "metadata": {},
   "source": [
    "A linear function looks like:\n",
    "$$Energy = k \\cdot Channel + m$$\n",
    "where;\n",
    "- $k$ determines the slope of the curve,\n",
    "- $m$ determined the intersection of the y-axis."
   ]
  },
  {
   "cell_type": "code",
   "execution_count": null,
   "metadata": {},
   "outputs": [],
   "source": [
    "#Execute to find calibration coefficients for the two detectors.\n",
    "\n",
    "#### NO NEED TO EDIT ####\n",
    "\n",
    "k_arr = []\n",
    "m_arr = []\n",
    "\n",
    "### 2. the function\n",
    "def LineFunc(x, k, m):\n",
    "    return k*x+m\n",
    "\n",
    "for i, channels in enumerate(channels_empty):\n",
    "\n",
    "    ### 3. our intial guess \n",
    "    guess = [2, # k\n",
    "             1] # m\n",
    "\n",
    "    ### 4. now we can perform the fit using curve_fit:\n",
    "    estimates, covar_matrix = curve_fit(LineFunc,\n",
    "                                    channels,\n",
    "                                    energy,\n",
    "                                    p0 = guess)\n",
    "\n",
    "    k_arr.append(estimates[0]) # unpack our values \n",
    "    m_arr.append(estimates[1]) # unpack our values \n",
    "\n",
    "    print(\"Estimates for Detector{}: k = {:.4f} and  m = {:.4f}\".format(i+1, k_arr[i], m_arr[i]))\n",
    "\n",
    "    ### Plot your Gaussian fit\n",
    "    plt.figure()\n",
    "    plt.plot(channels, energy, linestyle=\"\", marker=\"*\", label='data points')\n",
    "    plt.plot(channels, LineFunc(channels, k_arr[i], m_arr[i]), label='linear fit')\n",
    "    plt.legend(loc='upper left')\n",
    "    plt.title(\"Energy calibration Detector{}\".format(i+1)) # set title of the plot\n",
    "    plt.xlabel(\"Channels\")     # set label for x-axis \n",
    "    plt.ylabel(\"Energy [keV]\")       # set label for y-axis \n",
    "    plt.show()"
   ]
  },
  {
   "cell_type": "code",
   "execution_count": null,
   "metadata": {},
   "outputs": [],
   "source": [
    "#Execute to calibrate from channels to Energy [keV]\n",
    "\n",
    "#### NO NEED TO EDIT ####\n",
    "data_detector1.calibrate( k_arr[0], m_arr[0]) ### calibrate Detector1\n",
    "data_detector2.calibrate( k_arr[1], m_arr[1]) ### calibrate Detector2\n",
    "#########################"
   ]
  },
  {
   "cell_type": "code",
   "execution_count": null,
   "metadata": {},
   "outputs": [],
   "source": [
    "#Execute this cell to plot your calibrated spectra of Detector1 and Detector2\n",
    "\n",
    "#### NO NEED TO EDIT ####\n",
    "\n",
    "plt.figure()\n",
    "plt.step(data_detector1.energy, data_detector1.counts, where='mid', label='Calibrated data')\n",
    "plt.title(\"Calibrated spectrum of Detector1\") # set title of the plot\n",
    "plt.xlabel(\"Reaction product energy, keV\")     # set label for x-axis \n",
    "plt.ylabel(\"Counts\")          # set label for y-axis \n",
    "plt.yscale('log')\n",
    "plt.legend()                  # enables legend for all plots with a 'label'\n",
    "\n",
    "plt.figure()\n",
    "plt.step(data_detector2.energy, data_detector2.counts, where='mid', label='Calibrated data')\n",
    "plt.title(\"Calibrated spectrum of Detector2\") # set title of the plot\n",
    "plt.xlabel(\"Reaction product energy, keV\")     # set label for x-axis \n",
    "plt.ylabel(\"Counts\")          # set label for y-axis \n",
    "plt.yscale('log')\n",
    "plt.legend()                  # enables legend for all plots with a 'label'\n"
   ]
  },
  {
   "cell_type": "markdown",
   "metadata": {},
   "source": [
    "## -> Discussion points \n",
    "Note down the answers to following question:\n",
    "\n",
    "* **Question**: Identify what each region corresponds to."
   ]
  },
  {
   "cell_type": "markdown",
   "metadata": {},
   "source": [
    "# Measurement 2- After addition of aluminum sheet<a name=\"load\"></a>\n"
   ]
  },
  {
   "cell_type": "markdown",
   "metadata": {},
   "source": [
    "## Task 2 Calibrate and normalize the spectra of both detectors of measurements with the aluminum sheet "
   ]
  },
  {
   "cell_type": "code",
   "execution_count": null,
   "metadata": {
    "attributes": {
     "classes": [],
     "id": "",
     "n": "2"
    }
   },
   "outputs": [],
   "source": [
    "#Load your data files here:\n",
    "data_detector1_aluminum = MCA.load_spectrum(\" \")  ### Detector1 measurement with aluminum foil \n",
    "data_detector2_aluminum = MCA.load_spectrum(\" \")  ### Detector2 measurement with aluminum foil "
   ]
  },
  {
   "cell_type": "code",
   "execution_count": null,
   "metadata": {
    "scrolled": false
   },
   "outputs": [],
   "source": [
    "#Execute this cell to plot your spectra of Detector1 and Detector2 after adding the Aluminum sheet\n",
    "\n",
    "#### NO NEED TO EDIT ####\n",
    "\n",
    "plt.figure()\n",
    "plt.step(data_detector1_aluminum.bin_centers, data_detector1_aluminum.counts, where='mid')\n",
    "plt.title(\"Detector1 with aluminum\") # set title of the plot\n",
    "plt.xlabel(\"Channels\")     # set label for x-axis \n",
    "plt.ylabel(\"Counts\")       # set label for y-axis \n",
    "plt.yscale('log')\n",
    "\n",
    "plt.figure()\n",
    "plt.step(data_detector2_aluminum.bin_centers, data_detector2_aluminum.counts, where='mid')\n",
    "plt.title(\"Detector2 with aluminum\") # set title of the plot\n",
    "plt.xlabel(\"Channels\")     # set label for x-axis \n",
    "plt.ylabel(\"Counts\")       # set label for y-axis \n",
    "plt.yscale('log')\n",
    "plt.show()\n",
    "\n",
    "#plt.savefig(\"test_spectrum.png\") # This is how you save the figure. Change the extension for different file types such as pdf or png."
   ]
  },
  {
   "cell_type": "markdown",
   "metadata": {},
   "source": [
    "## Task 2.1 Energy calibration "
   ]
  },
  {
   "cell_type": "markdown",
   "metadata": {},
   "source": [
    "We can use the previous calibration coefficients:"
   ]
  },
  {
   "cell_type": "code",
   "execution_count": null,
   "metadata": {},
   "outputs": [],
   "source": [
    "#Execute to calibrate from ADC channels to Energy [keV]\n",
    "\n",
    "### NO NEED TO EDIT ###\n",
    "data_detector1_aluminum.calibrate( k_arr[0], m_arr[0]) ### Detector1 calibration\n",
    "data_detector2_aluminum.calibrate( k_arr[1], m_arr[1]) ### Detector2 calibration "
   ]
  },
  {
   "cell_type": "markdown",
   "metadata": {},
   "source": [
    "## Task 2.2 Detector 1 comparison with and without the foil "
   ]
  },
  {
   "cell_type": "markdown",
   "metadata": {},
   "source": [
    "### 2.2.1 Time normalization "
   ]
  },
  {
   "cell_type": "markdown",
   "metadata": {},
   "source": [
    "Check the duration of both measurements. You should normalize the measurement with more statistics to the one with less. "
   ]
  },
  {
   "cell_type": "code",
   "execution_count": null,
   "metadata": {},
   "outputs": [],
   "source": [
    "data_detector1.duration"
   ]
  },
  {
   "cell_type": "code",
   "execution_count": null,
   "metadata": {},
   "outputs": [],
   "source": [
    "data_detector1_aluminum.duration"
   ]
  },
  {
   "cell_type": "code",
   "execution_count": null,
   "metadata": {},
   "outputs": [],
   "source": [
    "### ToDo: uncomment the appropriate option \n",
    "\n",
    "# ### Option1: base measurement less statistics \n",
    "# norm_scale = data_detector1.duration / data_detector1_aluminum.duration\n",
    "# data_detector1_aluminum.scale(norm_scale)\n",
    "\n",
    "### Option2: base measurement more statistics\n",
    "norm_scale = data_detector1_aluminum.duration / data_detector1.duration\n",
    "data_detector1.scale(norm_scale)"
   ]
  },
  {
   "cell_type": "code",
   "execution_count": null,
   "metadata": {},
   "outputs": [],
   "source": [
    "#Execute this cell to plot Detector1 before and after adding the Aluminum sheet \n",
    "\n",
    "#### NO NEED TO EDIT ####\n",
    "\n",
    "plt.figure()\n",
    "plt.step(data_detector1.energy,data_detector1.counts, where='mid', label='Detector1')\n",
    "plt.step(data_detector1_aluminum.energy,data_detector1_aluminum.counts, where='mid', label='Detector1 with Aluminum sheet')\n",
    "plt.title(\"Detector1 with aluminum real time\") # set title of the plot\n",
    "plt.xlabel(\"Reaction product energy, keV\")     # set label for x-axis \n",
    "plt.ylabel(\"Counts normalized\")       # set label for y-axis \n",
    "#plt.yscale('log')\n",
    "plt.legend(loc='upper right')\n",
    "plt.show()"
   ]
  },
  {
   "cell_type": "markdown",
   "metadata": {},
   "source": [
    "### 2.2.2 Find the ratio of the the Detector1 before and after the Aluminum sheet"
   ]
  },
  {
   "cell_type": "code",
   "execution_count": null,
   "metadata": {},
   "outputs": [],
   "source": [
    "#Execute to find the ratio of statistics before and after adding the aluminum sheet channel by channel\n",
    "\n",
    "### Optional, you can change the max energy for which you plot the ratio  \n",
    "E_cut = 1500 \n",
    "\n",
    "### NO NEED TO EDIT ###\n",
    "N_bins = len(data_detector1.energy)\n",
    "ratio = np.zeros(N_bins)\n",
    "\n",
    "for i in range(N_bins): \n",
    "    if (data_detector1.counts[i]!=0 and data_detector1_aluminum.counts[i]!=0 and data_detector1.energy[i] < E_cut):\n",
    "        ratio[i] = scale * data_detector1_aluminum.counts[i]/data_detector1.counts[i]\n"
   ]
  },
  {
   "cell_type": "code",
   "execution_count": null,
   "metadata": {},
   "outputs": [],
   "source": [
    "#Execute this cell to plot Detector1 before and after adding aluminum sheet and their ratio\n",
    "\n",
    "#### NO NEED TO EDIT ####\n",
    "\n",
    "plt.figure()\n",
    "plt.step(data_detector1.energy,data_detector1.counts, where='mid', label='Detector1')\n",
    "plt.step(data_detector1_aluminum.energy,data_detector1_aluminum.counts, where='mid', label='Detector1 with Aluminum sheet')\n",
    "plt.step(data_detector1_aluminum.energy,ratio, where='mid', label='Ratio')\n",
    "\n",
    "plt.title(\"Detector1 with aluminum normalized to real time\") # set title of the plot\n",
    "plt.xlabel(\"Reaction product energy, keV\")     # set label for x-axis \n",
    "plt.ylabel(\"Counts normalized with time\")       # set label for y-axis \n",
    "#plt.yscale('log')\n",
    "plt.legend(loc='upper right')\n",
    "plt.show()"
   ]
  },
  {
   "cell_type": "code",
   "execution_count": null,
   "metadata": {},
   "outputs": [],
   "source": [
    "# Choose energy region to count the average ratio value\n",
    "E_min =     ### ToDo: choose a good starting energy from the plot above \n",
    "E_max =     ### ToDo: choose a good end point from the plot above \n",
    "\n",
    "### NO NEED TO EDIT ###\n",
    "ratio_sum = 0 \n",
    "ratio_N = 0\n",
    "\n",
    "for i in range(N_bins): \n",
    "    if (data_detector1.energy[i]>= E_min and data_detector1.energy[i]<=E_max):\n",
    "        ratio_sum += ratio[i]\n",
    "        ratio_N += 1\n",
    "\n",
    "ratio_avg_al = ratio_sum/ratio_N\n",
    "ratio_avg_al /= scale \n",
    "\n",
    "print(\"Average ratio of two measurements with and without the Aluminum foil for the region [{} {}] keV is {:.2f}\".format(E_min, E_max, ratio_avg_al))"
   ]
  },
  {
   "cell_type": "markdown",
   "metadata": {},
   "source": [
    "## -> Discussion points \n",
    "Discuss in a group and answer the following questions:\n",
    "\n",
    "* **Question**: What are the effects of adding Aluminum foil for Detector 1? "
   ]
  },
  {
   "cell_type": "markdown",
   "metadata": {},
   "source": [
    "## Task 2.3 Detector 2 comparison with and without the foil "
   ]
  },
  {
   "cell_type": "markdown",
   "metadata": {},
   "source": [
    "### 2.3.1 Time normalization "
   ]
  },
  {
   "cell_type": "markdown",
   "metadata": {},
   "source": [
    "Check the duration of both measurements. You should normalize the measurement with more statistics to the one with less. "
   ]
  },
  {
   "cell_type": "code",
   "execution_count": null,
   "metadata": {},
   "outputs": [],
   "source": [
    "data_detector2.duration"
   ]
  },
  {
   "cell_type": "code",
   "execution_count": null,
   "metadata": {},
   "outputs": [],
   "source": [
    "data_detector2_aluminum.duration"
   ]
  },
  {
   "cell_type": "code",
   "execution_count": null,
   "metadata": {},
   "outputs": [],
   "source": [
    "### ToDo: uncomment the appropriate option \n",
    "### Option1: base measurement less statistics \n",
    "# norm_scale = data_detector2.duration / data_detector2_aluminum.duration\n",
    "# data_detector2_aluminum.scale(norm_scale)\n",
    "\n",
    "### Option2: base measurement more statistics\n",
    "norm_scale = data_detector2_aluminum.duration / data_detector2.duration\n",
    "data_detector2.scale(norm_scale)"
   ]
  },
  {
   "cell_type": "code",
   "execution_count": null,
   "metadata": {},
   "outputs": [],
   "source": [
    "#Execute this cell to plot Detector2 before and after adding the Aluminum sheet \n",
    "\n",
    "### NO NEED TO EDIT ### \n",
    "plt.figure()\n",
    "plt.step(data_detector2.energy,data_detector2.counts, where='mid', label='Detector2')\n",
    "plt.step(data_detector2_aluminum.energy,data_detector2_aluminum.counts, where='mid', label='Detector2 with Aluminum sheet')\n",
    "plt.title(\"Detector2 with aluminum real time\") # set title of the plot\n",
    "plt.xlabel(\"Reaction product energy, keV\")     # set label for x-axis \n",
    "plt.ylabel(\"Counts normalized\")       # set label for y-axis \n",
    "#plt.yscale('log')\n",
    "plt.legend(loc='upper right')\n",
    "plt.show()"
   ]
  },
  {
   "cell_type": "markdown",
   "metadata": {},
   "source": [
    "### 2.3.2 Find the ratio of the the Detector1 before and after the Aluminum sheet"
   ]
  },
  {
   "cell_type": "code",
   "execution_count": null,
   "metadata": {},
   "outputs": [],
   "source": [
    "### Optional, you can change the max energy for which you plot the ratio  \n",
    "E_cut = 1500 \n",
    "\n",
    "### NO NEED TO EDIT ###\n",
    "N_bins = len(data_detector1.energy)\n",
    "ratio = np.zeros(N_bins)\n",
    "for i in range(N_bins): \n",
    "    if (data_detector2.counts[i]!=0 and data_detector2_aluminum.counts[i]!=0 and data_detector2.energy[i] < E_cut):\n",
    "        ratio[i] = scale * data_detector2_aluminum.counts[i]/data_detector2.counts[i]\n",
    "\n"
   ]
  },
  {
   "cell_type": "code",
   "execution_count": null,
   "metadata": {},
   "outputs": [],
   "source": [
    "#Execute this cell to plot Detector2 before and after adding aluminum sheet and their ratio\n",
    "\n",
    "#### NO NEED TO EDIT ####\n",
    "\n",
    "plt.figure()\n",
    "plt.step(data_detector2.energy,data_detector2.counts, where='mid', label='Detector2')\n",
    "plt.step(data_detector2_aluminum.energy,data_detector2_aluminum.counts, where='mid', label='Detector2 with Aluminum sheet')\n",
    "plt.step(data_detector2_aluminum.energy,ratio, where='mid', label='Ratio')\n",
    "\n",
    "plt.title(\"Detector2 with aluminum normalized to real time\") # set title of the plot\n",
    "plt.xlabel(\"Reaction product energy, keV\")     # set label for x-axis \n",
    "plt.ylabel(\"Counts normalized with time\")       # set label for y-axis \n",
    "#plt.yscale('log')\n",
    "plt.legend(loc='upper right')\n",
    "plt.show()"
   ]
  },
  {
   "cell_type": "code",
   "execution_count": null,
   "metadata": {},
   "outputs": [],
   "source": [
    "# Choose energy region to count the average ratio value\n",
    "E_min =     ### To Do : choose a good starting energy from the plot above \n",
    "E_max =     ### To Do : choose a good end point from the plot above \n",
    "\n",
    "### NO NEED TO EDIT ###\n",
    "ratio_sum = 0 \n",
    "ratio_N = 0\n",
    "\n",
    "for i in range(N_bins): \n",
    "    if (data_detector2.energy[i]>= E_min and data_detector2.energy[i]<=E_max):\n",
    "        ratio_sum += ratio[i]\n",
    "        ratio_N += 1\n",
    "\n",
    "ratio_avg_al = ratio_sum/ratio_N\n",
    "ratio_avg_al /= scale \n",
    "\n",
    "print(\"Average ratio of two measurements with and without the Aluminum foil for the region [{} {}] keV is {:.2f}\".format(E_min, E_max, ratio_avg_al))"
   ]
  },
  {
   "cell_type": "markdown",
   "metadata": {},
   "source": [
    "## -> Discussion points \n",
    "Discuss in a group and answer the following questions:\n",
    "\n",
    "* **Question**: What are the effects of adding Aluminum foil on the Detector 2? "
   ]
  },
  {
   "cell_type": "markdown",
   "metadata": {},
   "source": [
    "## Measurement 3- After addition of Cadmium sheet<a name=\"load\"></a>"
   ]
  },
  {
   "cell_type": "markdown",
   "metadata": {},
   "source": [
    "First we need to reload the base measurement for the code to work properly:"
   ]
  },
  {
   "cell_type": "code",
   "execution_count": null,
   "metadata": {},
   "outputs": [],
   "source": [
    "### RELOAD BASE MEASUREMENT ### \n",
    "\n",
    "data_detector1 = MCA.load_spectrum(\" \") # Insert name of the base measurement, detector1\n",
    "data_detector2 = MCA.load_spectrum(\" \") # Insert name of the base measurement, detector2\n",
    "\n",
    "### NO NEED TO EDIT ###\n",
    "\n",
    "data_detector1.calibrate( k_arr[0], m_arr[0]) # Calibration Detector1\n",
    "data_detector2.calibrate( k_arr[1], m_arr[1]) # Calibration Detector2\n",
    "\n",
    "################################"
   ]
  },
  {
   "cell_type": "markdown",
   "metadata": {},
   "source": [
    "Now load the spectra taken with the detectors after adding the Cadmium sheet"
   ]
  },
  {
   "cell_type": "code",
   "execution_count": null,
   "metadata": {
    "attributes": {
     "classes": [],
     "id": "",
     "n": "2"
    }
   },
   "outputs": [],
   "source": [
    "#Load your data files here:\n",
    "data_detector1_cadmium = MCA.load_spectrum(\" \")  ## ToDo: Inset name of the file with Detector1 with Cadmium sheet measurement\n",
    "data_detector2_cadmium = MCA.load_spectrum(\" \")  ## ToDo: Inset name of the file with Detector2 with Cadmium sheet measuremen"
   ]
  },
  {
   "cell_type": "code",
   "execution_count": null,
   "metadata": {
    "scrolled": false
   },
   "outputs": [],
   "source": [
    "#Execute this cell to plot Detector1 and Detector2 after adding the Cadmium sheet \n",
    "\n",
    "### NO NEED TO EDIT ### \n",
    "\n",
    "plt.figure()\n",
    "plt.step(data_detector1_cadmium.bin_centers,data_detector1_cadmium.counts, where='mid')\n",
    "\n",
    "plt.title(\"Detector1 with Cadmium\") # set title of the plot\n",
    "plt.xlabel(\"Channels\")     # set label for x-axis \n",
    "plt.ylabel(\"Counts\")       # set label for y-axis \n",
    "plt.yscale('log')\n",
    "\n",
    "plt.figure()\n",
    "plt.step(data_detector2_cadmium.bin_centers, data_detector2_cadmium.counts, where='mid')\n",
    "plt.yscale('log')\n",
    "\n",
    "plt.title(\"Detector2 with Cadmium\") # set title of the plot\n",
    "plt.xlabel(\"Channels\")     # set label for x-axis \n",
    "plt.ylabel(\"Counts\")       # set label for y-axis \n",
    "\n",
    "plt.show()\n",
    "\n",
    "#plt.savefig(\"test_spectrum.png\") # This is how you save the figure. Change the extension for different file types such as pdf or png."
   ]
  },
  {
   "cell_type": "markdown",
   "metadata": {},
   "source": [
    "## Task 3.1 Energy calibration "
   ]
  },
  {
   "cell_type": "markdown",
   "metadata": {},
   "source": [
    "We can use the previous calibration coefficients:"
   ]
  },
  {
   "cell_type": "code",
   "execution_count": null,
   "metadata": {},
   "outputs": [],
   "source": [
    "#Execute to calibrate from channels to Energy [keV]\n",
    "\n",
    "#### NO NEED TO EDIT ####\n",
    "\n",
    "data_detector1_cadmium.calibrate( k_arr[0], m_arr[0]) ### Detector1 with Cadmium\n",
    "data_detector2_cadmium.calibrate( k_arr[1], m_arr[1]) ### Detector2 with Cadmium"
   ]
  },
  {
   "cell_type": "markdown",
   "metadata": {},
   "source": [
    "## Task 3.2 Detector 1 comparison with and without the Cadmium block "
   ]
  },
  {
   "cell_type": "markdown",
   "metadata": {},
   "source": [
    "### 3.2.1 Time normalization "
   ]
  },
  {
   "cell_type": "markdown",
   "metadata": {},
   "source": [
    "Check the duration of both measurements. You should normalize the measurement with more statistics to the one with less. "
   ]
  },
  {
   "cell_type": "code",
   "execution_count": null,
   "metadata": {},
   "outputs": [],
   "source": [
    "data_detector1.duration"
   ]
  },
  {
   "cell_type": "code",
   "execution_count": null,
   "metadata": {},
   "outputs": [],
   "source": [
    "data_detector1_cadmium.duration"
   ]
  },
  {
   "cell_type": "code",
   "execution_count": null,
   "metadata": {},
   "outputs": [],
   "source": [
    "# ### ToDo: uncomment the appropriate option \n",
    "# ### Option1: base measurement less statistics \n",
    "# norm_scale = data_detector1.duration / data_detector1_cadmium.duration\n",
    "# data_detector1_aluminum.scale(norm_scale)\n",
    "\n",
    "### Option2: base measurement more statistics\n",
    "norm_scale = data_detector1_cadmium.duration / data_detector1.duration\n",
    "data_detector1.scale(norm_scale)"
   ]
  },
  {
   "cell_type": "code",
   "execution_count": null,
   "metadata": {},
   "outputs": [],
   "source": [
    "#Execute this cell to plot Detector1 before and after adding the Cadmium sheet \n",
    "\n",
    "### NO NEED TO EDIT ### \n",
    "\n",
    "plt.figure()\n",
    "plt.step(data_detector1.energy,data_detector1.counts, where='mid', label='Detector1')\n",
    "plt.step(data_detector1_cadmium.energy,data_detector1_cadmium.counts, where='mid', label='Detector1 with Cadmium block')\n",
    "plt.title(\"Detector1 with Cadmium\") # set title of the plot\n",
    "plt.xlabel(\"Reaction product energy, keV\")     # set label for x-axis \n",
    "plt.ylabel(\"Counts normalized\")       # set label for y-axis \n",
    "#plt.yscale('log')\n",
    "plt.legend(loc='upper right')\n",
    "plt.show()"
   ]
  },
  {
   "cell_type": "markdown",
   "metadata": {},
   "source": [
    "### 3.2.2 Find the ratio of the the Detector1 before and after the Cadmium sheet"
   ]
  },
  {
   "cell_type": "code",
   "execution_count": null,
   "metadata": {},
   "outputs": [],
   "source": [
    "### Optional, you can change the max energy for which you plot the ratio  \n",
    "E_cut = 1500 \n",
    "\n",
    "### NO NEED TO EDIT ###\n",
    "N_bins = len(data_detector1.energy)\n",
    "ratio = np.zeros(N_bins)\n",
    "\n",
    "for i in range(N_bins): \n",
    "    if (data_detector1.counts[i]!=0 and data_detector1_cadmium.counts[i]!=0 and data_detector1.energy[i] < E_cut):\n",
    "        ratio[i] = scale * data_detector1_cadmium.counts[i]/data_detector1.counts[i]\n"
   ]
  },
  {
   "cell_type": "code",
   "execution_count": null,
   "metadata": {},
   "outputs": [],
   "source": [
    "#Execute this cell to plot Detector1 before and after adding the Cadmium block with their ratio\n",
    "\n",
    "### NO NEED TO EDIT ###\n",
    "plt.figure()\n",
    "plt.step(data_detector1.energy,data_detector1.counts, where='mid', label='Detector1')\n",
    "plt.step(data_detector1_cadmium.energy,data_detector1_cadmium.counts, where='mid', label='Detector1 with Cadmium sheet')\n",
    "plt.step(data_detector1_cadmium.energy,ratio, where='mid', label='Ratio')\n",
    "\n",
    "plt.title(\"Detector1 with Cadmium\") # set title of the plot\n",
    "plt.xlabel(\"Reaction product energy, keV\")     # set label for x-axis \n",
    "plt.ylabel(\"Counts normalized\")       # set label for y-axis \n",
    "#plt.yscale('log')\n",
    "plt.legend(loc='upper right')\n",
    "plt.show()"
   ]
  },
  {
   "cell_type": "code",
   "execution_count": null,
   "metadata": {},
   "outputs": [],
   "source": [
    "# Choose energy region to count the average ratio value\n",
    "E_min =     ### To Do : choose a good starting energy from the plot above \n",
    "E_max =     ### To Do : choose a good end point from the plot above \n",
    "\n",
    "\n",
    "### NO NEED TO EDIT ###\n",
    "\n",
    "ratio_sum = 0 \n",
    "ratio_N = 0\n",
    "\n",
    "for i in range(N_bins): \n",
    "    if (data_detector1.energy[i]>= E_min and data_detector1.energy[i]<=E_max):\n",
    "        ratio_sum += ratio[i]\n",
    "        ratio_N += 1\n",
    "\n",
    "ratio_avg_al = ratio_sum/ratio_N\n",
    "ratio_avg_al /= scale \n",
    "\n",
    "print(\"Average ratio of two measurements with and without the Cadmium block for the region [{} {}] keV is {:.2f}\".format(E_min, E_max, ratio_avg_al))\n"
   ]
  },
  {
   "cell_type": "markdown",
   "metadata": {},
   "source": [
    "## -> Discussion points \n",
    "Discuss in a group and answer the following questions:\n",
    "\n",
    "* **Question**: What are the effects of adding Cadmium sheet? "
   ]
  },
  {
   "cell_type": "markdown",
   "metadata": {},
   "source": [
    "## Task 3.3 Detector 2 comparison with and without Cadmium sheet "
   ]
  },
  {
   "cell_type": "markdown",
   "metadata": {},
   "source": [
    "### 3.3.1 Time normalization "
   ]
  },
  {
   "cell_type": "markdown",
   "metadata": {},
   "source": [
    "Check the duration of both measurements. You should normalize the measurement with more statistics to the one with less. "
   ]
  },
  {
   "cell_type": "code",
   "execution_count": null,
   "metadata": {},
   "outputs": [],
   "source": [
    "data_detector2.duration"
   ]
  },
  {
   "cell_type": "code",
   "execution_count": null,
   "metadata": {},
   "outputs": [],
   "source": [
    "data_detector2_cadmium.duration"
   ]
  },
  {
   "cell_type": "code",
   "execution_count": null,
   "metadata": {},
   "outputs": [],
   "source": [
    "### ToDo: uncomment the appropriate option \n",
    "### Option1: base measurement less statistics \n",
    "norm_scale = data_detector2.duration / data_detector2_cadmium.duration\n",
    "data_detector2_cadmium.scale(norm_scale)\n",
    "\n",
    "### Option2: base measurement more statistics\n",
    "# norm_scale = data_detector2_cadmium.duration / data_detector2.duration\n",
    "# data_detector2.scale(norm_scale)"
   ]
  },
  {
   "cell_type": "code",
   "execution_count": null,
   "metadata": {},
   "outputs": [],
   "source": [
    "#Execute this cell to plot Detector2 before and after adding the Cadmium sheet \n",
    "\n",
    "### NO NEED TO EDIT ### \n",
    "\n",
    "plt.figure()\n",
    "plt.step(data_detector2.energy,data_detector2.counts, where='mid', label='Detector2')\n",
    "plt.step(data_detector2_cadmium.energy,data_detector2_cadmium.counts, where='mid', label='Detector2 with Cadmium sheet')\n",
    "plt.title(\"Detector2 with Cadmium real time\") # set title of the plot\n",
    "plt.xlabel(\"Reaction product energy, keV\")     # set label for x-axis \n",
    "plt.ylabel(\"Counts normalized with time\")       # set label for y-axis \n",
    "#plt.yscale('log')\n",
    "plt.legend(loc='upper right')\n",
    "plt.show()"
   ]
  },
  {
   "cell_type": "markdown",
   "metadata": {},
   "source": [
    "### 3.3.2 Find the ratio of the the Detector2 before and after the Cadmium sheet"
   ]
  },
  {
   "cell_type": "code",
   "execution_count": null,
   "metadata": {},
   "outputs": [],
   "source": [
    "### Optional, you can change the max energy for which you plot the ratio  \n",
    "E_cut = 1500 \n",
    "\n",
    "### NO NEED TO EDIT ###\n",
    "N_bins = len(data_detector1.energy)\n",
    "ratio = np.zeros(N_bins)\n",
    "for i in range(N_bins): \n",
    "    if (data_detector2.counts[i]!=0 and data_detector2_cadmium.counts[i]!=0 and data_detector2.energy[i] < E_cut):\n",
    "        ratio[i] = scale * data_detector2_cadmium.counts[i]/data_detector2.counts[i]\n",
    "\n"
   ]
  },
  {
   "cell_type": "code",
   "execution_count": null,
   "metadata": {},
   "outputs": [],
   "source": [
    "#Execute this cell to plot Detector2 before and after adding the Cadmium block with their ratio\n",
    "\n",
    "### NO NEED TO EDIT ### \n",
    "\n",
    "plt.figure()\n",
    "plt.step(data_detector2.energy,data_detector2.counts, where='mid', label='Detector2')\n",
    "plt.step(data_detector2_cadmium.energy,data_detector2_cadmium.counts, where='mid', label='Detector2 with Cadmium block')\n",
    "plt.step(data_detector2_aluminum.energy,ratio, where='mid', label='Ratio')\n",
    "\n",
    "plt.title(\"Detector2 with Cadmium normalized to real time\") # set title of the plot\n",
    "plt.xlabel(\"Reaction product energy, keV\")     # set label for x-axis \n",
    "plt.ylabel(\"Counts normalized\")       # set label for y-axis \n",
    "#plt.yscale('log')\n",
    "plt.legend(loc='upper right')\n",
    "plt.show()"
   ]
  },
  {
   "cell_type": "code",
   "execution_count": null,
   "metadata": {},
   "outputs": [],
   "source": [
    "# Choose energy region to count the average ratio value\n",
    "E_min =     ### To Do : choose a good starting energy from the plot above \n",
    "E_max =     ### To Do : choose a good end point from the plot above \n",
    "\n",
    "\n",
    "### NO NEED TO EDIT ###\n",
    "\n",
    "ratio_sum = 0 \n",
    "ratio_N = 0\n",
    "\n",
    "for i in range(N_bins): \n",
    "    if (data_detector2.energy[i]>= E_min and data_detector2.energy[i]<=E_max):\n",
    "        ratio_sum += ratio[i]\n",
    "        ratio_N += 1\n",
    "\n",
    "ratio_avg_al = ratio_sum/ratio_N\n",
    "ratio_avg_al /= scale \n",
    "\n",
    "print(\"Average ratio of two measurements with and without the Cadmium block for the region [{} {}] keV is {:.2f}\".format(E_min, E_max, ratio_avg_al))\n",
    "\n"
   ]
  },
  {
   "cell_type": "markdown",
   "metadata": {},
   "source": [
    "## -> Discussion points \n",
    "Discuss in a group and answer the following questions:\n",
    "\n",
    "* **Question**: What are the effects of adding Cadmium sheet on the Detector2? "
   ]
  },
  {
   "cell_type": "markdown",
   "metadata": {},
   "source": [
    "# Task 4 - Branching $^7$Li <a name=\"load\"></a>"
   ]
  },
  {
   "cell_type": "markdown",
   "metadata": {},
   "source": [
    "For this task we want to sum statistics for all measurements that we did with Detector1: base measurement + measurement with Aluminum sheet + measurement with Cadmium sheet."
   ]
  },
  {
   "cell_type": "code",
   "execution_count": null,
   "metadata": {},
   "outputs": [],
   "source": [
    "### We start with the base measurement \n",
    "### LOAD THE BASE MEASUREMENT ### \n",
    "data_detector1_sum = MCA.load_spectrum(\" \") # Insert name of the base measurement, detector1\n",
    "\n",
    "### NO NEED TO EDIT ###\n",
    "data_detector1_sum.calibrate( k_arr[0], m_arr[0])"
   ]
  },
  {
   "cell_type": "code",
   "execution_count": null,
   "metadata": {},
   "outputs": [],
   "source": [
    "# Execute this cell to sum statistics of all measurements with the Detector1\n",
    "\n",
    "### NO NEED TO EDIT ###\n",
    "### Sum statistics of all measurements \n",
    "data_detector1_sum.counts = data_detector1_sum.counts + data_detector1_aluminum.counts\n",
    "data_detector1_sum.counts = data_detector1_sum.counts + data_detector1_cadmium.counts"
   ]
  },
  {
   "cell_type": "code",
   "execution_count": null,
   "metadata": {},
   "outputs": [],
   "source": [
    "# Execute this cell plot the base measurement vs all three measurements together with Detector1\n",
    "\n",
    "### NO NEED TO EDIT ### \n",
    "\n",
    "plt.figure()\n",
    "plt.step(data_detector1.energy,data_detector1.counts, where='mid', label='Detector1')\n",
    "plt.step(data_detector1_sum.energy,data_detector1_sum.counts, where='mid', label='Detector1 summed')\n",
    "\n",
    "plt.title(\"Detector1 summed statistics\") # set title of the plot\n",
    "plt.xlabel(\"Reaction product energy, keV\")     # set label for x-axis \n",
    "plt.ylabel(\"Counts\")       # set label for y-axis \n",
    "#plt.yscale('log')\n",
    "plt.legend(loc='upper right')\n",
    "plt.show()"
   ]
  },
  {
   "cell_type": "code",
   "execution_count": null,
   "metadata": {},
   "outputs": [],
   "source": [
    "# Choose energy region to count the average ratio value\n",
    "### Select good energy regio from the histogram \n",
    "E_min =      ### ToDo : choose a good starting energy from the plot above \n",
    "E_max =      ### ToDo : choose a good end point from the plot above \n",
    "\n",
    "E_replace_total =       ### Select the max E for which counts need to be \"replaced\" for the total spectrum\n",
    "A_replace_total =       ### Select counts value value with which to replace \n",
    "\n",
    "E_replace_ground =      ### Select the max E for which counts need to be \"replaced\" for the ground state spectrum\n",
    "A_replace_ground =      ### Select counts value value with which to replace \n",
    "\n",
    "### NO NEED TO EDIT ### \n",
    "\n",
    "counts_total = np.zeros(N_bins)\n",
    "counts_ground = np.zeros(N_bins)\n",
    "\n",
    "counts_total_sum = 0 \n",
    "counts_ground_sum = 0\n",
    "\n",
    "for i in range(N_bins): \n",
    "    if (data_detector1_sum.energy[i]>= E_min and data_detector1_sum.energy[i]<=E_max):\n",
    "        ### total \n",
    "        if (data_detector1_sum.energy[i] < E_replace_total):\n",
    "            counts_total[i] = A_replace_total\n",
    "        else: \n",
    "            counts_total[i] = data_detector1_sum.counts[i]\n",
    "        ### ground state \n",
    "        if (data_detector1_sum.energy[i] < E_replace_ground):\n",
    "            counts_ground[i] = A_replace_ground\n",
    "        else: \n",
    "            counts_ground[i] = data_detector1_sum.counts[i]\n",
    "        counts_total_sum += counts_total[i]\n",
    "        counts_ground_sum += counts_ground[i]"
   ]
  },
  {
   "cell_type": "code",
   "execution_count": null,
   "metadata": {
    "scrolled": false
   },
   "outputs": [],
   "source": [
    "# Execute to plot population of the excited and ground state \n",
    "\n",
    "### NO NEED TO EDIT ### \n",
    "plt.figure()\n",
    "plt.step(data_detector1_sum.energy,data_detector1_sum.counts, where='mid', label='Detector1 counts summed')\n",
    "plt.step(data_detector1.energy,counts_total, where='mid', label='Population of excited state', color=\"orange\")\n",
    "plt.step(data_detector1.energy,counts_ground, where='mid', label='Population of ground state', color=\"green\")\n",
    "\n",
    "plt.fill_between(data_detector1.energy,counts_total, step=\"mid\", alpha=0.4, color=\"orange\")\n",
    "plt.fill_between(data_detector1.energy,counts_ground, step=\"mid\", alpha=0.4, color=\"green\")\n",
    "\n",
    "\n",
    "plt.title(\"Detector1\") # set title of the plot\n",
    "plt.xlabel(\"Reaction product energy, keV\")     # set label for x-axis \n",
    "plt.ylabel(\"Counts\")       # set label for y-axis \n",
    "plt.yscale('log')\n",
    "plt.legend(loc='upper right')\n",
    "plt.show()"
   ]
  },
  {
   "cell_type": "code",
   "execution_count": null,
   "metadata": {},
   "outputs": [],
   "source": [
    "# Execute to find the ratio\n",
    "\n",
    "### NO NEED TO EDIT ### \n",
    "\n",
    "print(\"Sum of the counts total {}\".format(counts_total_sum))\n",
    "print(\"Sum of the counts ground state {}\".format(counts_ground_sum))\n",
    "\n",
    "ratio_ground_total = counts_ground_sum / counts_total_sum\n",
    "\n",
    "print(\"The ratio {:.2f}\".format(ratio_ground_total))"
   ]
  },
  {
   "cell_type": "markdown",
   "metadata": {},
   "source": [
    "## Measurement 4, Task 5- Change of detector position<a name=\"load\"></a>\n"
   ]
  },
  {
   "cell_type": "markdown",
   "metadata": {},
   "source": [
    "First we need to reload the base measurement for the code to work properly:"
   ]
  },
  {
   "cell_type": "code",
   "execution_count": null,
   "metadata": {},
   "outputs": [],
   "source": [
    "### RELOAD BASE MEASUREMENT ### \n",
    "\n",
    "data_detector1 = MCA.load_spectrum(\" \") # Insert name of the base measurement, detector1\n",
    "data_detector2 = MCA.load_spectrum(\" \") # Insert name of the base measurement, detector2\n",
    "\n",
    "### NO NEED TO EDIT ###\n",
    "\n",
    "data_detector1.calibrate( k_arr[0], m_arr[0]) # Calibration Detector1\n",
    "data_detector2.calibrate( k_arr[1], m_arr[1]) # Calibration Detector2\n",
    "\n",
    "################################"
   ]
  },
  {
   "cell_type": "markdown",
   "metadata": {},
   "source": [
    "Now load the new measurement with Detector2 in Position2:"
   ]
  },
  {
   "cell_type": "code",
   "execution_count": null,
   "metadata": {
    "attributes": {
     "classes": [],
     "id": "",
     "n": "2"
    }
   },
   "outputs": [],
   "source": [
    "data_detector2_position2 = MCA.load_spectrum(\" \")  ## ToDo: insert your filename"
   ]
  },
  {
   "cell_type": "code",
   "execution_count": null,
   "metadata": {
    "scrolled": false
   },
   "outputs": [],
   "source": [
    "#Execute this cell to plot Detector2 in the second position\n",
    "\n",
    "### NO NEED TO EDIT ### \n",
    "\n",
    "plt.figure()\n",
    "plt.step(data_detector2_position2.bin_centers,data_detector2_position2.counts, where='mid')\n",
    "\n",
    "plt.title(\"Detector2 in Position2\") # set title of the plot\n",
    "plt.xlabel(\"Channels\")     # set label for x-axis \n",
    "plt.ylabel(\"Counts\")       # set label for y-axis \n",
    "plt.yscale('log')\n",
    "\n",
    "\n",
    "#plt.savefig(\"test_spectrum.png\") # This is how you save the figure. Change the extension for different file types such as pdf or png."
   ]
  },
  {
   "cell_type": "markdown",
   "metadata": {},
   "source": [
    "## Task 5.1 Energy calibration "
   ]
  },
  {
   "cell_type": "markdown",
   "metadata": {},
   "source": [
    "We can use the previous calibration coefficients:"
   ]
  },
  {
   "cell_type": "code",
   "execution_count": null,
   "metadata": {},
   "outputs": [],
   "source": [
    "#Execute to calibrate the new measurement\n",
    "\n",
    "### NO NEED TO EDIT ### \n",
    "data_detector2_position2.calibrate( k_arr[1], m_arr[1])"
   ]
  },
  {
   "cell_type": "markdown",
   "metadata": {},
   "source": [
    "## Task 5.2 Detector 2 comparison in Position 1 and Position 2"
   ]
  },
  {
   "cell_type": "markdown",
   "metadata": {},
   "source": [
    "### 5.2.1 Time normalization "
   ]
  },
  {
   "cell_type": "markdown",
   "metadata": {},
   "source": [
    "Check the duration of both measurements. You should normalize the measurement with more statistics to the one with less. "
   ]
  },
  {
   "cell_type": "code",
   "execution_count": null,
   "metadata": {},
   "outputs": [],
   "source": [
    "data_detector2.duration"
   ]
  },
  {
   "cell_type": "code",
   "execution_count": null,
   "metadata": {},
   "outputs": [],
   "source": [
    "data_detector2_position2.duration"
   ]
  },
  {
   "cell_type": "code",
   "execution_count": null,
   "metadata": {},
   "outputs": [],
   "source": [
    "### ToDo: uncomment the appropriate option \n",
    "### Option1: base measurement less statistics \n",
    "# norm_scale = data_detector2.duration / data_detector2_position2.duration\n",
    "# data_detector2_position2.scale(norm_scale)\n",
    "\n",
    "### Option2: base measurement more statistics\n",
    "norm_scale = data_detector2_position2.duration / data_detector2.duration\n",
    "data_detector2.scale(norm_scale)"
   ]
  },
  {
   "cell_type": "code",
   "execution_count": null,
   "metadata": {},
   "outputs": [],
   "source": [
    "#Execute this cell to plot Detector2 in the position1 vs position2\n",
    "\n",
    "### NO NEED TO EDIT ### \n",
    "\n",
    "plt.figure()\n",
    "plt.step(data_detector2.energy,data_detector2.counts, where='mid', label='Detector2')\n",
    "plt.step(data_detector2_position2.energy,data_detector2_position2.counts, where='mid', label='Detector2 in Position2')\n",
    "plt.title(\"Detector2 in Position2\") # set title of the plot\n",
    "plt.xlabel(\"Reaction product energy, keV\")     # set label for x-axis \n",
    "plt.ylabel(\"Counts normalized\")       # set label for y-axis \n",
    "#plt.yscale('log')\n",
    "plt.legend(loc='upper right')\n",
    "plt.show()"
   ]
  },
  {
   "cell_type": "markdown",
   "metadata": {},
   "source": [
    "### 5.2.2 Find the ratio of the the Detector2 in Position 1 and Position 2"
   ]
  },
  {
   "cell_type": "code",
   "execution_count": null,
   "metadata": {},
   "outputs": [],
   "source": [
    "### Optional, you can change the max energy for which you plot the ratio  \n",
    "E_cut = 1500 \n",
    "\n",
    "### NO NEED TO EDIT ###\n",
    "N_bins = len(data_detector2.energy)\n",
    "ratio = np.zeros(N_bins)\n",
    "\n",
    "for i in range(N_bins): \n",
    "    if (data_detector2.counts[i]!=0 and data_detector2_position2.counts[i]!=0 and data_detector2.energy[i] < E_cut):\n",
    "        ratio[i] = scale * data_detector2_position2.counts[i]/data_detector2.counts[i]\n"
   ]
  },
  {
   "cell_type": "code",
   "execution_count": null,
   "metadata": {},
   "outputs": [],
   "source": [
    "#Execute this cell to plot Detector2 in the position1 vs position2 with their ratio\n",
    "\n",
    "### NO NEED TO EDIT ### \n",
    "\n",
    "plt.figure()\n",
    "plt.step(data_detector2.energy,data_detector2.counts, where='mid', label='Detector2')\n",
    "plt.step(data_detector2_position2.energy,data_detector2_position2.counts, where='mid', label='Detector2 in Position2')\n",
    "plt.step(data_detector2_position2.energy,ratio, where='mid', label='Ratio')\n",
    "\n",
    "plt.title(\"Detector2 in Position2\") # set title of the plot\n",
    "plt.xlabel(\"Reaction product energy, keV\")     # set label for x-axis \n",
    "plt.ylabel(\"Counts normalized\")       # set label for y-axis \n",
    "#plt.yscale('log')\n",
    "plt.legend(loc='upper right')\n",
    "plt.show()"
   ]
  },
  {
   "cell_type": "code",
   "execution_count": null,
   "metadata": {},
   "outputs": [],
   "source": [
    "# Choose energy region to count the average ratio value\n",
    "E_min =     ### ToDo : choose a good starting energy from the plot above \n",
    "E_max =     ### ToDo : choose a good end point from the plot above \n",
    "\n",
    "### NO NEED TO EDIT ###\n",
    "\n",
    "ratio_sum = 0 \n",
    "ratio_N = 0\n",
    "\n",
    "for i in range(N_bins): \n",
    "    if (data_detector2.energy[i]>= E_min and data_detector2.energy[i]<=E_max):\n",
    "        ratio_sum += ratio[i]\n",
    "        ratio_N += 1\n",
    "\n",
    "ratio_avg_al = ratio_sum/ratio_N\n",
    "ratio_avg_al /= scale \n",
    "\n",
    "print(\"Average ratio of two measurements in Position1 and Position2 for the region [{} {}] keV is {:.2f}\".format(E_min, E_max, ratio_avg_al))"
   ]
  },
  {
   "cell_type": "markdown",
   "metadata": {},
   "source": [
    "## -> Discussion points \n",
    "Discuss in a group and answer the following questions:\n",
    "\n",
    "* **Question**: What are the effects of adding distance? "
   ]
  },
  {
   "cell_type": "markdown",
   "metadata": {},
   "source": [
    "# Measurement 6- BGO detector <a name=\"load\"></a>"
   ]
  },
  {
   "cell_type": "markdown",
   "metadata": {},
   "source": [
    "## Task 6.1 Load data and calibrate the detector \n",
    "Note that the calibration coefficients are already given to you "
   ]
  },
  {
   "cell_type": "code",
   "execution_count": null,
   "metadata": {
    "attributes": {
     "classes": [],
     "id": "",
     "n": "2"
    },
    "scrolled": true
   },
   "outputs": [],
   "source": [
    "data_BGO = MCA.load_spectrum(\" \") ### ToDo: Insert the name of BGO spectrum"
   ]
  },
  {
   "cell_type": "code",
   "execution_count": null,
   "metadata": {},
   "outputs": [],
   "source": [
    "# Execute to plot uncalibrated BGO spectrum\n",
    "\n",
    "### NO NEED TO EDIT ### \n",
    "\n",
    "plt.figure()\n",
    "plt.step(data_BGO.bin_centers,data_BGO.counts, where='mid')\n",
    "\n",
    "plt.title(\"Uncalibrated BGO gamma spectrum\") # set title of the plot\n",
    "plt.xlabel(\"Channels\")     # set label for x-axis \n",
    "plt.ylabel(\"Counts\")       # set label for y-axis \n",
    "plt.yscale('log')\n",
    "\n",
    "plt.show()"
   ]
  },
  {
   "cell_type": "code",
   "execution_count": null,
   "metadata": {},
   "outputs": [],
   "source": [
    "data_BGO.calibrate( , ) ### ToDo: Insert calibration values from the .Spe file values under $ENER_FIT "
   ]
  },
  {
   "cell_type": "code",
   "execution_count": null,
   "metadata": {},
   "outputs": [],
   "source": [
    "# Execute to plot calibrated BGO spectrum\n",
    "\n",
    "### NO NEED TO EDIT ### \n",
    "plt.figure()\n",
    "plt.step(data_BGO.energy,data_BGO.counts, where='mid')\n",
    "\n",
    "plt.title(\"Calibrated BGO gamma spectrum\") # set title of the plot\n",
    "plt.xlabel(\"Energy, keV\")     # set label for x-axis \n",
    "plt.ylabel(\"Counts\")       # set label for y-axis \n",
    "plt.yscale('log')\n",
    "\n",
    "plt.show()\n",
    "#plt.savefig(\"BGO_calibrated.png\") # This is how you save the figure. Change the extension for different file types such as pdf or png."
   ]
  },
  {
   "cell_type": "markdown",
   "metadata": {},
   "source": [
    "## -> Discussion points \n",
    "Discuss in a group and answer the following questions:\n",
    "\n",
    "* **Question**: Where gamma rays are emitted from? \n",
    "* **Question**: What is the energy of the \"bump\" to the left? "
   ]
  },
  {
   "cell_type": "markdown",
   "metadata": {},
   "source": [
    "<span style=\"font-weight:700;font-size:20px\"> \n",
    "NOTE:  Save calibrate BGO spectrum and bring it to the gamma lab. More detailed discussion of the features of the spectrum will be done during the gamma lab.\n",
    "</span>"
   ]
  }
 ],
 "metadata": {
  "hide_input": false,
  "kernelspec": {
   "display_name": "Python 3 (ipykernel)",
   "language": "python",
   "name": "python3"
  },
  "language_info": {
   "codemirror_mode": {
    "name": "ipython",
    "version": 3
   },
   "file_extension": ".py",
   "mimetype": "text/x-python",
   "name": "python",
   "nbconvert_exporter": "python",
   "pygments_lexer": "ipython3",
   "version": "3.9.7"
  },
  "latex_envs": {
   "LaTeX_envs_menu_present": true,
   "autoclose": false,
   "autocomplete": true,
   "bibliofile": "biblio.bib",
   "cite_by": "apalike",
   "current_citInitial": 1,
   "eqLabelWithNumbers": true,
   "eqNumInitial": 1,
   "hotkeys": {
    "equation": "Ctrl-E",
    "itemize": "Ctrl-I"
   },
   "labels_anchors": false,
   "latex_user_defs": false,
   "report_style_numbering": false,
   "user_envs_cfg": false
  },
  "toc": {
   "base_numbering": 1,
   "nav_menu": {},
   "number_sections": true,
   "sideBar": true,
   "skip_h1_title": false,
   "title_cell": "Table of Contents",
   "title_sidebar": "Contents",
   "toc_cell": false,
   "toc_position": {},
   "toc_section_display": true,
   "toc_window_display": false
  }
 },
 "nbformat": 4,
 "nbformat_minor": 4
}
